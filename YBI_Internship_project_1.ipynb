{
  "nbformat": 4,
  "nbformat_minor": 0,
  "metadata": {
    "colab": {
      "provenance": [],
      "toc_visible": true,
      "authorship_tag": "ABX9TyNBrgS2SpJZ0NU78V3wO+J4",
      "include_colab_link": true
    },
    "kernelspec": {
      "name": "python3",
      "display_name": "Python 3"
    },
    "language_info": {
      "name": "python"
    }
  },
  "cells": [
    {
      "cell_type": "markdown",
      "metadata": {
        "id": "view-in-github",
        "colab_type": "text"
      },
      "source": [
        "<a href=\"https://colab.research.google.com/github/SoumyaRoy12/Operating-system-lab/blob/main/YBI_Internship_project_1.ipynb\" target=\"_parent\"><img src=\"https://colab.research.google.com/assets/colab-badge.svg\" alt=\"Open In Colab\"/></a>"
      ]
    },
    {
      "cell_type": "code",
      "execution_count": null,
      "metadata": {
        "id": "8RJK1stC3-x1",
        "colab": {
          "base_uri": "https://localhost:8080/"
        },
        "outputId": "4423ab67-0cc0-4a92-c6a7-f79a188dc0d6"
      },
      "outputs": [
        {
          "output_type": "stream",
          "name": "stdout",
          "text": [
            "Requirement already satisfied: pandas in /usr/local/lib/python3.11/dist-packages (2.2.2)\n",
            "Requirement already satisfied: scikit-learn in /usr/local/lib/python3.11/dist-packages (1.6.1)\n",
            "Requirement already satisfied: scikit-surprise in /usr/local/lib/python3.11/dist-packages (1.1.4)\n",
            "Requirement already satisfied: numpy>=1.23.2 in /usr/local/lib/python3.11/dist-packages (from pandas) (2.0.2)\n",
            "Requirement already satisfied: python-dateutil>=2.8.2 in /usr/local/lib/python3.11/dist-packages (from pandas) (2.9.0.post0)\n",
            "Requirement already satisfied: pytz>=2020.1 in /usr/local/lib/python3.11/dist-packages (from pandas) (2025.2)\n",
            "Requirement already satisfied: tzdata>=2022.7 in /usr/local/lib/python3.11/dist-packages (from pandas) (2025.2)\n",
            "Requirement already satisfied: scipy>=1.6.0 in /usr/local/lib/python3.11/dist-packages (from scikit-learn) (1.15.3)\n",
            "Requirement already satisfied: joblib>=1.2.0 in /usr/local/lib/python3.11/dist-packages (from scikit-learn) (1.5.1)\n",
            "Requirement already satisfied: threadpoolctl>=3.1.0 in /usr/local/lib/python3.11/dist-packages (from scikit-learn) (3.6.0)\n",
            "Requirement already satisfied: six>=1.5 in /usr/local/lib/python3.11/dist-packages (from python-dateutil>=2.8.2->pandas) (1.17.0)\n"
          ]
        }
      ],
      "source": [
        "pip install pandas scikit-learn scikit-surprise\n"
      ]
    },
    {
      "cell_type": "code",
      "source": [
        "import pandas as pd\n",
        "import numpy as np\n",
        "from sklearn.metrics.pairwise import cosine_similarity\n",
        "from sklearn.feature_extraction.text import TfidfVectorizer\n",
        "\n"
      ],
      "metadata": {
        "id": "H6NihxY38NTl"
      },
      "execution_count": null,
      "outputs": []
    },
    {
      "cell_type": "code",
      "source": [
        "\n",
        "data = {\n",
        "    'user_id': ['U1', 'U2', 'U3', 'U4', 'U5'],\n",
        "    'product_id': ['P1', 'P2', 'P3', 'P4', 'P5'],\n",
        "    'product_name': ['Phone', 'Laptop', 'Headphones', 'Camera', 'Smartwatch'],\n",
        "    'description': [\n",
        "        'Android smartphone with 64GB storage',\n",
        "        'Gaming laptop with high RAM and SSD',\n",
        "        'Wireless headphones with noise cancellation',\n",
        "        'DSLR camera with 24MP lens',\n",
        "        'Smartwatch with health tracking and notifications'\n",
        "    ],\n",
        "    'rating': [5, 4, 3, 5, 4]\n",
        "}\n",
        "\n",
        "df = pd.DataFrame(data)\n"
      ],
      "metadata": {
        "id": "KSjiddk8-H4j"
      },
      "execution_count": null,
      "outputs": []
    },
    {
      "cell_type": "code",
      "source": [
        "# Create a pivot table for ratings\n",
        "ratings_matrix = df.pivot_table(index='user_id', columns='product_name', values='rating').fillna(0)\n",
        "\n",
        "# Calculate similarity between users\n",
        "user_similarity = cosine_similarity(ratings_matrix)\n",
        "\n",
        "# Create a DataFrame for similarity\n",
        "user_similarity_df = pd.DataFrame(user_similarity, index=ratings_matrix.index, columns=ratings_matrix.index)\n",
        "\n",
        "print(\"User Similarity Matrix:\")\n",
        "print(user_similarity_df)"
      ],
      "metadata": {
        "colab": {
          "base_uri": "https://localhost:8080/"
        },
        "id": "YpFFq9MV-f1K",
        "outputId": "4e620f5e-1120-4fdf-e972-862b0d4c0200"
      },
      "execution_count": null,
      "outputs": [
        {
          "output_type": "stream",
          "name": "stdout",
          "text": [
            "User Similarity Matrix:\n",
            "user_id   U1   U2   U3   U4   U5\n",
            "user_id                         \n",
            "U1       1.0  0.0  0.0  0.0  0.0\n",
            "U2       0.0  1.0  0.0  0.0  0.0\n",
            "U3       0.0  0.0  1.0  0.0  0.0\n",
            "U4       0.0  0.0  0.0  1.0  0.0\n",
            "U5       0.0  0.0  0.0  0.0  1.0\n"
          ]
        }
      ]
    },
    {
      "cell_type": "code",
      "source": [
        "# TF-IDF Vectorizer on product description\n",
        "tfidf = TfidfVectorizer(stop_words='english')\n",
        "tfidf_matrix = tfidf.fit_transform(df['description'])\n",
        "\n",
        "# Compute cosine similarity between products\n",
        "product_similarity = cosine_similarity(tfidf_matrix, tfidf_matrix)\n",
        "\n",
        "# Product similarity DataFrame\n",
        "product_similarity_df = pd.DataFrame(product_similarity, index=df['product_name'], columns=df['product_name'])\n",
        "\n",
        "print(\"\\nProduct Similarity Matrix:\")\n",
        "print(product_similarity_df)"
      ],
      "metadata": {
        "colab": {
          "base_uri": "https://localhost:8080/"
        },
        "id": "8AIC9XEj-yGm",
        "outputId": "84fd89cc-f380-46ae-98de-202cdbac5d6b"
      },
      "execution_count": null,
      "outputs": [
        {
          "output_type": "stream",
          "name": "stdout",
          "text": [
            "\n",
            "Product Similarity Matrix:\n",
            "product_name  Phone  Laptop  Headphones  Camera  Smartwatch\n",
            "product_name                                               \n",
            "Phone           1.0     0.0         0.0     0.0         0.0\n",
            "Laptop          0.0     1.0         0.0     0.0         0.0\n",
            "Headphones      0.0     0.0         1.0     0.0         0.0\n",
            "Camera          0.0     0.0         0.0     1.0         0.0\n",
            "Smartwatch      0.0     0.0         0.0     0.0         1.0\n"
          ]
        }
      ]
    },
    {
      "cell_type": "code",
      "source": [
        "def recommend_similar_products(product_name, num_recommendations=3):\n",
        "    if product_name not in product_similarity_df.columns:\n",
        "        return [\"Product not found!\"]\n",
        "    # Get similarity scores\n",
        "    similar_scores = product_similarity_df[product_name].sort_values(ascending=False)\n",
        "    recommended = similar_scores.iloc[1:num_recommendations+1].index.tolist()\n",
        "    return recommended"
      ],
      "metadata": {
        "id": "I0_dp9W2-8pR"
      },
      "execution_count": null,
      "outputs": []
    }
  ]
}